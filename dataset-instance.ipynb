{
 "cells": [
  {
   "cell_type": "code",
   "execution_count": 18,
   "id": "47fcedd8-0787-4b9e-9c3d-4b7ba31a31fc",
   "metadata": {},
   "outputs": [
    {
     "name": "stdout",
     "output_type": "stream",
     "text": [
      "SparkConf created\n",
      "Started SparkSession\n",
      "Spark version 3.5.0\n"
     ]
    }
   ],
   "source": [
    "# INSTALL ANY PYTHON PACKAGE YOU NEED HERE!!\n",
    "# restart the kernel after installing new pkgs\n",
    "\n",
    "# %pip install geopandas \n",
    "# %pip install matplotlib\n",
    "# %pip install pyspark_dist_explore\n",
    "# %pip install plotly\n",
    "# %pip install chart-studio\n",
    "# %pip install pysnmp"
   ]
  },
  {
   "cell_type": "code",
   "execution_count": null,
   "id": "328c1dd9-b8a8-4010-941d-8a2b5948e37c",
   "metadata": {},
   "outputs": [],
   "source": [
    "%config Completer.use_jedi = False\n",
    "%run spark-instance.ipynb"
   ]
  },
  {
   "cell_type": "code",
   "execution_count": 19,
   "id": "7837a20e-1a64-47bd-ba98-5a58bfb13703",
   "metadata": {},
   "outputs": [],
   "source": [
    "# system imports\n",
    "import os\n",
    "import time \n",
    "from datetime import datetime\n",
    "\n",
    "# installed pkg imports\n",
    "import numpy as np\n",
    "import pandas as pd\n",
    "import ipaddress\n",
    "\n",
    "pd.set_option('display.max_rows', 300)\n",
    "\n",
    "# spark imports\n",
    "import pyspark.sql.functions as psf\n",
    "import pyspark.sql.types as pst\n",
    "from pyspark.sql.functions import * \n",
    "from pyspark.sql.functions import monotonically_increasing_id\n",
    "\n",
    "# Other imports \n",
    "from pyspark.sql.functions import col, udf \n",
    "from pyspark.sql.types import BooleanType\n",
    "import matplotlib.pyplot as plt\n",
    "from pyspark_dist_explore import hist\n",
    "import plotly\n",
    "import chart_studio.plotly as py\n",
    "import plotly.graph_objs as go\n",
    "import pandas as pd\n",
    "import plotly.express as px\n",
    "import plotly.io as pio\n",
    "pio.renderers.default='iframe'\n",
    "\n",
    "# local python files imports"
   ]
  },
  {
   "cell_type": "code",
   "execution_count": 20,
   "id": "86bd3599-4e2a-4978-84c4-42c7d5811af0",
   "metadata": {},
   "outputs": [],
   "source": [
    "# you have access to the following dates:\n",
    "#year=2023/month=12/day=19 - 5\n",
    "#year=2024/month=01/day=16 - 6\n",
    "#year=2024/month=02/day=20 - 7\n",
    "#year=2024/month=03/day=12 - 8\n",
    "\n",
    "#Change the value of date between 1-8. \n",
    "\n",
    "ts = datetime(2023, 12, 19)\n",
    "\n",
    "date = 8\n",
    "\n",
    "match date:\n",
    "    case 5:\n",
    "        ts = datetime(2023, 12, 19)\n",
    "    case 6:\n",
    "        ts = datetime(2024, 1, 16)\n",
    "    case 7:\n",
    "        ts = datetime(2024, 2, 20)\n",
    "    case 8:\n",
    "        ts = datetime(2024, 3, 12)\n",
    "    \n",
    "CENSYS_BASE_PATH_FMT = \"../dataset/censys/dataset=universal-internet-dataset-v2-ipv4/format=parquet/\"\n",
    "CENSYS_PATH_FMT = os.path.join(CENSYS_BASE_PATH_FMT, \"year={year}/month={month:02d}/day={day:02d}\")"
   ]
  },
  {
   "cell_type": "code",
   "execution_count": 21,
   "id": "dc1d0403-c233-4ed0-bd88-da9c1c9acc0f",
   "metadata": {},
   "outputs": [],
   "source": [
    "censys_path = CENSYS_PATH_FMT.format(year=ts.year, month=ts.month, day=ts.day)\n",
    "censys_df = spark.read.option(\"basePath\", CENSYS_BASE_PATH_FMT).parquet(censys_path)"
   ]
  },
  {
   "cell_type": "code",
   "execution_count": 23,
   "id": "5e1667c5-73fe-410a-bb42-bee9915dd902",
   "metadata": {},
   "outputs": [],
   "source": [
    "# Useful methods applied during research.\n",
    "\n",
    "def is_list_all_none(lst):\n",
    "    if isinstance(lst, list):\n",
    "        return all(x is None for x in lst)\n",
    "    return False\n",
    "\n",
    "def extract_value(lst):\n",
    "    if isinstance(lst, list):\n",
    "        for item in lst:\n",
    "            if item is not None:\n",
    "                return item\n",
    "    return None\n",
    "\n",
    "def extract_list_with_strings(lst_of_lsts):\n",
    "    if isinstance(lst_of_lsts, list):\n",
    "        for sublist in lst_of_lsts:\n",
    "            if isinstance(sublist, list) and any(isinstance(item, str) for item in sublist):\n",
    "                return sublist\n",
    "    return None\n",
    "    \n",
    "def count_versions(sublists, version):\n",
    "    if sublists is not None:\n",
    "        count = 0\n",
    "        for sublist in sublists:\n",
    "            if sublist is not None:\n",
    "                count += sublist.count(version)\n",
    "        return count\n",
    "    return 0\n",
    "\n",
    "\n",
    "def categorize_list(lst):\n",
    "    if set(lst) == {'v1', 'v2c', 'v3'}:\n",
    "        return 'v1, v2, v3'\n",
    "    elif set(lst) == {'v1'}:\n",
    "        return 'Just v1'\n",
    "    elif set(lst) == {'v2c'}:\n",
    "        return 'Just v2c'\n",
    "    elif set(lst) == {'v3'}:\n",
    "        return 'Just v3'\n",
    "    elif set(lst) == {'v1', 'v2c'}:\n",
    "        return 'Just v1 and v2c'\n",
    "    elif set(lst) == {'v1', 'v3'}:\n",
    "        return 'Just v1 and v3'\n",
    "    elif set(lst) == {'v2c', 'v3'}:\n",
    "        return 'Just v2c and v3'\n",
    "    return 'other'\n",
    "\n",
    "def remove_nones(lst):\n",
    "    if isinstance(lst, list):\n",
    "        return [item for item in lst if item is not None]\n",
    "    return lst"
   ]
  }
 ],
 "metadata": {
  "kernelspec": {
   "display_name": "Python 3 (ipykernel)",
   "language": "python",
   "name": "python3"
  },
  "language_info": {
   "codemirror_mode": {
    "name": "ipython",
    "version": 3
   },
   "file_extension": ".py",
   "mimetype": "text/x-python",
   "name": "python",
   "nbconvert_exporter": "python",
   "pygments_lexer": "ipython3",
   "version": "3.11.6"
  }
 },
 "nbformat": 4,
 "nbformat_minor": 5
}
